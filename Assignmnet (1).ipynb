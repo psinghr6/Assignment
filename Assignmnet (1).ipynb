{
 "cells": [
  {
   "cell_type": "code",
   "execution_count": 1,
   "id": "cdf84c3b-c60c-416e-8966-367e30676d32",
   "metadata": {},
   "outputs": [],
   "source": [
    "import os"
   ]
  },
  {
   "cell_type": "code",
   "execution_count": 2,
   "id": "22ff97a6-997c-4f54-bd88-0fbca1022411",
   "metadata": {},
   "outputs": [
    {
     "ename": "FileNotFoundError",
     "evalue": "[Errno 2] No such file or directory: 'Desktop/Processing'",
     "output_type": "error",
     "traceback": [
      "\u001b[0;31m---------------------------------------------------------------------------\u001b[0m",
      "\u001b[0;31mFileNotFoundError\u001b[0m                         Traceback (most recent call last)",
      "\u001b[0;32m<ipython-input-2-c414b4634775>\u001b[0m in \u001b[0;36m<module>\u001b[0;34m\u001b[0m\n\u001b[1;32m      2\u001b[0m \u001b[0mfolders\u001b[0m\u001b[0;34m=\u001b[0m\u001b[0;34m[\u001b[0m\u001b[0;34m'Processing'\u001b[0m\u001b[0;34m,\u001b[0m\u001b[0;34m'Queue'\u001b[0m\u001b[0;34m,\u001b[0m\u001b[0;34m'Processed'\u001b[0m\u001b[0;34m]\u001b[0m\u001b[0;34m\u001b[0m\u001b[0;34m\u001b[0m\u001b[0m\n\u001b[1;32m      3\u001b[0m \u001b[0;32mfor\u001b[0m \u001b[0mfolder\u001b[0m \u001b[0;32min\u001b[0m \u001b[0mfolders\u001b[0m\u001b[0;34m:\u001b[0m\u001b[0;34m\u001b[0m\u001b[0;34m\u001b[0m\u001b[0m\n\u001b[0;32m----> 4\u001b[0;31m     \u001b[0mos\u001b[0m\u001b[0;34m.\u001b[0m\u001b[0mmkdir\u001b[0m\u001b[0;34m(\u001b[0m\u001b[0mos\u001b[0m\u001b[0;34m.\u001b[0m\u001b[0mpath\u001b[0m\u001b[0;34m.\u001b[0m\u001b[0mjoin\u001b[0m\u001b[0;34m(\u001b[0m\u001b[0mroot_path\u001b[0m\u001b[0;34m,\u001b[0m\u001b[0mfolder\u001b[0m\u001b[0;34m)\u001b[0m\u001b[0;34m)\u001b[0m\u001b[0;34m\u001b[0m\u001b[0;34m\u001b[0m\u001b[0m\n\u001b[0m",
      "\u001b[0;31mFileNotFoundError\u001b[0m: [Errno 2] No such file or directory: 'Desktop/Processing'"
     ]
    }
   ],
   "source": [
    "root_path='Desktop'\n",
    "folders=['Processing','Queue','Processed']\n",
    "for folder in folders:\n",
    "    os.mkdir(os.path.join(root_path,folder))"
   ]
  },
  {
   "cell_type": "code",
   "execution_count": 3,
   "id": "e2f1942e-c122-4b0c-8a39-a6a11ad41fdb",
   "metadata": {},
   "outputs": [],
   "source": [
    "file=open(\"users\\\\desktop\\\\Processing\\\\myfile.txt\",'w')\n",
    "file.close()"
   ]
  },
  {
   "cell_type": "code",
   "execution_count": 4,
   "id": "b7aca174-22a6-4b43-ad63-e85fc2fbd348",
   "metadata": {},
   "outputs": [],
   "source": [
    "from pathlib import Path\n",
    "\n",
    "pathlist = Path(\"Desktop/Processing\").glob('**/*.txt')\n",
    "myfile = 'filename.txt'\n",
    "for path in pathlist:\n",
    "    if path.name == myfile:\n",
    "        continue"
   ]
  },
  {
   "cell_type": "code",
   "execution_count": 5,
   "id": "a40e2a7b-dafe-4d8a-aebe-69f06b8dce2e",
   "metadata": {},
   "outputs": [
    {
     "ename": "FileNotFoundError",
     "evalue": "[Errno 2] No such file or directory: 'Desktop/Processing'",
     "output_type": "error",
     "traceback": [
      "\u001b[0;31m---------------------------------------------------------------------------\u001b[0m",
      "\u001b[0;31mFileNotFoundError\u001b[0m                         Traceback (most recent call last)",
      "\u001b[0;32m<ipython-input-5-f94da133aa84>\u001b[0m in \u001b[0;36m<module>\u001b[0;34m\u001b[0m\n\u001b[1;32m      6\u001b[0m \u001b[0mtarget_dir\u001b[0m \u001b[0;34m=\u001b[0m \u001b[0;34m'Desktop/Queue'\u001b[0m\u001b[0;34m\u001b[0m\u001b[0;34m\u001b[0m\u001b[0m\n\u001b[1;32m      7\u001b[0m \u001b[0mt\u001b[0m\u001b[0;34m.\u001b[0m\u001b[0msleep\u001b[0m\u001b[0;34m(\u001b[0m\u001b[0;36m5\u001b[0m\u001b[0;34m)\u001b[0m\u001b[0;34m\u001b[0m\u001b[0;34m\u001b[0m\u001b[0m\n\u001b[0;32m----> 8\u001b[0;31m \u001b[0mfile_names\u001b[0m \u001b[0;34m=\u001b[0m \u001b[0mos\u001b[0m\u001b[0;34m.\u001b[0m\u001b[0mlistdir\u001b[0m\u001b[0;34m(\u001b[0m\u001b[0msource_dir\u001b[0m\u001b[0;34m)\u001b[0m\u001b[0;34m\u001b[0m\u001b[0;34m\u001b[0m\u001b[0m\n\u001b[0m\u001b[1;32m      9\u001b[0m \u001b[0;34m\u001b[0m\u001b[0m\n\u001b[1;32m     10\u001b[0m \u001b[0;32mfor\u001b[0m \u001b[0mfile_name\u001b[0m \u001b[0;32min\u001b[0m \u001b[0mfile_names\u001b[0m\u001b[0;34m:\u001b[0m\u001b[0;34m\u001b[0m\u001b[0;34m\u001b[0m\u001b[0m\n",
      "\u001b[0;31mFileNotFoundError\u001b[0m: [Errno 2] No such file or directory: 'Desktop/Processing'"
     ]
    }
   ],
   "source": [
    "import time as t\n",
    "import shutil\n",
    "import os\n",
    "    \n",
    "source_dir = 'Desktop/Processing'\n",
    "target_dir = 'Desktop/Queue'\n",
    "t.sleep(5)    \n",
    "file_names = os.listdir(source_dir)\n",
    "    \n",
    "for file_name in file_names:\n",
    "    shutil.move(os.path.join(source_dir, file_name), target_dir)"
   ]
  },
  {
   "cell_type": "code",
   "execution_count": null,
   "id": "b91c9f66-c694-4bec-bcb7-5a2e9ac0b1e3",
   "metadata": {},
   "outputs": [],
   "source": []
  },
  {
   "cell_type": "code",
   "execution_count": null,
   "id": "f65c1852-5a4f-4e7d-a427-519d7e0cd00f",
   "metadata": {},
   "outputs": [],
   "source": [
    "import pymysql\n",
    "try:\n",
    "    db=pymysql.connect(user='root',password='',host='localhost',database='Assignment(1)')\n",
    "    mycursor=db.cursor()\n",
    "except Exception as e:\n",
    "    print(e)\n",
    "query=\"UPDATE [LOW_PRIORITY] [IGNORE] table_references\n",
    "      SET col_name1={expr1|0} [, col_name2={expr2|2}] ...\"\n",
    "try:\n",
    "    mycursor.execute(query)\n",
    "    db.commit()\n",
    "except Exception as e:\n",
    "    print(e)\n",
    "#after updating table in mysql ,moving files from queue to processed\n",
    "queue_dir = 'Desktop/Queue'\n",
    "processing_dir = 'Desktop/Processing'\n",
    "processed_dir = 'Desktop/Processed'\n",
    "\n",
    "queue_files = os.listdir(queue_dir)\n",
    "for file_name in queue_files:\n",
    "        shutil.move(os.path.join(queue_dir, file_name), processed_dir)\n",
    "        \n",
    "#after this checking whether queue dir is empty or not,then moving files from processing to queue\n",
    "try:\n",
    "    if len(os.listdir('Desktop/Queue') ) == 0:\n",
    "        shutil.move(os.path.join(processing_dir, file_name), queue_dir)\n",
    "except Exception as e:\n",
    "    print(e)\n",
    "else:\n",
    "    print('Queue folder was empty and hence files from processing folder  moved to processed folder')\n",
    "    \n",
    "    "
   ]
  },
  {
   "cell_type": "code",
   "execution_count": null,
   "id": "a78a433f-a33b-40c3-acc5-4930b78fcec2",
   "metadata": {},
   "outputs": [],
   "source": []
  }
 ],
 "metadata": {
  "kernelspec": {
   "display_name": "Python 3",
   "language": "python",
   "name": "python3"
  },
  "language_info": {
   "codemirror_mode": {
    "name": "ipython",
    "version": 3
   },
   "file_extension": ".py",
   "mimetype": "text/x-python",
   "name": "python",
   "nbconvert_exporter": "python",
   "pygments_lexer": "ipython3",
   "version": "3.8.8"
  }
 },
 "nbformat": 4,
 "nbformat_minor": 5
}
